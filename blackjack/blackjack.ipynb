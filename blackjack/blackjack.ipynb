{
 "cells": [
  {
   "cell_type": "code",
   "execution_count": 1,
   "metadata": {},
   "outputs": [],
   "source": [
    "import os\n",
    "os.environ[\"KERAS_BACKEND\"] = \"tensorflow\"\n",
    "import gymnasium as gym\n",
    "import numpy as np\n",
    "import tensorflow.keras as keras\n",
    "from tensorflow.keras import ops, Model\n",
    "from tensorflow.keras.layers import Dense, Input\n",
    "import tensorflow as tf"
   ]
  },
  {
   "cell_type": "code",
   "execution_count": 3,
   "metadata": {},
   "outputs": [],
   "source": [
    "env = gym.make('Blackjack-v1')"
   ]
  },
  {
   "cell_type": "code",
   "execution_count": 50,
   "metadata": {},
   "outputs": [],
   "source": [
    "NUM_INPUTS = 3\n",
    "NUM_ACTIONS = 2\n",
    "NUM_HIDDEN = 128\n",
    "DISCOUNT_FACTOR = 1\n",
    "RUNNING_DISCOUNT = 0.5\n",
    "EPS = np.finfo(np.float32).eps.item()\n",
    "\n",
    "inputs = Input(shape=(NUM_INPUTS,))\n",
    "common = Dense(NUM_HIDDEN, activation='relu')(inputs)\n",
    "actor = Dense(NUM_ACTIONS, activation='softmax')(common)\n",
    "critic = Dense(units=1)(common)\n",
    "\n",
    "model = Model(inputs=inputs, outputs=[actor, critic])"
   ]
  },
  {
   "cell_type": "code",
   "execution_count": null,
   "metadata": {},
   "outputs": [],
   "source": [
    "import matplotlib.pyplot as plt\n",
    "\n",
    "MAX_EPISODES = 100_000\n",
    "\n",
    "def moving_average(x: np.ndarray, window: int) -> np.ndarray:\n",
    "    result = np.zeros(len(x))\n",
    "    i = len(x) - 1\n",
    "    while i >= 0:\n",
    "        sum_ = 0\n",
    "        n = 0\n",
    "        while i - n >= 0 and n < window:\n",
    "            sum_ += x[i - n]\n",
    "            n += 1\n",
    "        result[i] = sum_ / n\n",
    "        i -= 1\n",
    "    return result\n",
    "        \n",
    "optimizer = keras.optimizers.Adam(learning_rate=0.01)\n",
    "model.compile(optimizer=optimizer)\n",
    "critic_loss = keras.losses.Huber()\n",
    "running_reward = 0\n",
    "episode_rewards = np.zeros(MAX_EPISODES)\n",
    "\n",
    "for episode in range(MAX_EPISODES):\n",
    "    state, _ = env.reset()\n",
    "    action_probs_history = []\n",
    "    expected_return_history = []\n",
    "    rewards_history = []\n",
    "    with tf.GradientTape() as tape:\n",
    "        done = False\n",
    "        while not done:\n",
    "            # sum_, showing_card, usable_ace = state\n",
    "            # if episode_count % 10 == 0:\n",
    "            #     print(f'Episode {episode_count}: sum={sum_}, showing_card={showing_card}, usable_ace={usable_ace}')\n",
    "\n",
    "            state = tf.convert_to_tensor(state)\n",
    "            state = tf.expand_dims(state, 0)\n",
    "            \n",
    "            action_probs, expected_return = model(state)\n",
    "            action = np.random.choice(NUM_ACTIONS, p=np.squeeze(action_probs))\n",
    "            action_probs_history.append(ops.log(action_probs[0, action]))\n",
    "            expected_return_history.append(expected_return[0, 0])\n",
    "\n",
    "            state, reward, done, _, _ = env.step(action)\n",
    "            rewards_history.append(reward)\n",
    "            episode_rewards[episode] += reward\n",
    "\n",
    "        running_reward = (\n",
    "            RUNNING_DISCOUNT * episode_rewards[episode] +\n",
    "            (1 - RUNNING_DISCOUNT) * running_reward\n",
    "        )\n",
    "\n",
    "        returns = np.zeros(len(rewards_history))\n",
    "        discounted_sum = 0\n",
    "        for i in range(len(rewards_history)):\n",
    "            discounted_sum = rewards_history[-1 - i] + DISCOUNT_FACTOR * discounted_sum\n",
    "            returns[-1 - i] = discounted_sum\n",
    "        returns = (returns - np.mean(returns)) / (np.std(returns) + EPS)\n",
    "\n",
    "        actor_loss = 0.\n",
    "        critic_loss_ = 0.\n",
    "        for action_prob, expected, return_ in zip(action_probs_history, expected_return_history, returns):\n",
    "            diff = return_ - expected\n",
    "            actor_loss -= action_prob * diff\n",
    "            critic_loss_ += critic_loss(\n",
    "                np.expand_dims(expected, 0),\n",
    "                np.expand_dims(return_, 0)\n",
    "            )\n",
    "\n",
    "        cost = actor_loss + critic_loss_\n",
    "        grads = tape.gradient(cost, model.trainable_variables)\n",
    "        optimizer.apply_gradients(zip(grads, model.trainable_variables))\n",
    "\n",
    "    if episode % 100 == 0:\n",
    "        print(f'Episode {episode}: {running_reward}')\n",
    "        # print(np.squeeze(action_probs_history))\n",
    "        # print(np.squeeze(rewards_history))\n",
    "\n",
    "\n"
   ]
  },
  {
   "cell_type": "code",
   "execution_count": null,
   "metadata": {},
   "outputs": [],
   "source": [
    "avg_reward = moving_average(episode_rewards[:episode], 1000)\n",
    "plt.plot(range(len(avg_reward)), avg_reward)\n",
    "plt.show()"
   ]
  }
 ],
 "metadata": {
  "kernelspec": {
   "display_name": "env",
   "language": "python",
   "name": "python3"
  },
  "language_info": {
   "codemirror_mode": {
    "name": "ipython",
    "version": 3
   },
   "file_extension": ".py",
   "mimetype": "text/x-python",
   "name": "python",
   "nbconvert_exporter": "python",
   "pygments_lexer": "ipython3",
   "version": "3.12.4"
  }
 },
 "nbformat": 4,
 "nbformat_minor": 2
}
